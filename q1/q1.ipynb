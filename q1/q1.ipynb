{
 "cells": [
  {
   "cell_type": "markdown",
   "metadata": {},
   "source": [
    "## Prep work"
   ]
  },
  {
   "cell_type": "code",
   "execution_count": 16,
   "metadata": {},
   "outputs": [],
   "source": [
    "import pandas as pd\n",
    "import numpy as np\n",
    "import matplotlib.pyplot as plt\n",
    "import seaborn as sns\n",
    "import os"
   ]
  },
  {
   "cell_type": "code",
   "execution_count": 3,
   "metadata": {},
   "outputs": [],
   "source": [
    "data_dir = '../trimmedData'"
   ]
  },
  {
   "cell_type": "code",
   "execution_count": 4,
   "metadata": {},
   "outputs": [],
   "source": [
    "years = ['04', '06', '08', '12', '14', '16']"
   ]
  },
  {
   "cell_type": "code",
   "execution_count": 8,
   "metadata": {},
   "outputs": [],
   "source": [
    "# PAC dataframe list\n",
    "pdfl = []\n",
    "# Individual dataframe list\n",
    "idfl = []\n",
    "for year in years:\n",
    "    df = pd.read_csv(os.path.join(data_dir, '20{}p.csv'.format(year)))\n",
    "    df['year'] = int('20' + year)\n",
    "    pdfl.append(df)\n",
    "    df = pd.read_csv(os.path.join(data_dir, '20{}i.csv'.format(year)))\n",
    "    df['year'] = int('20' + year)\n",
    "    idfl.append(df)\n",
    "pdf = pd.concat(pdfl)\n",
    "idf = pd.concat(idfl)\n",
    "    "
   ]
  },
  {
   "cell_type": "code",
   "execution_count": 13,
   "metadata": {},
   "outputs": [
    {
     "name": "stdout",
     "output_type": "stream",
     "text": [
      "CID       object\n",
      "amount     int64\n",
      "year       int64\n",
      "dtype: object\n",
      "CID        object\n",
      "amount    float64\n",
      "year        int64\n",
      "dtype: object\n"
     ]
    }
   ],
   "source": [
    "print(pdf.dtypes)\n",
    "print(idf.dtypes)"
   ]
  },
  {
   "cell_type": "markdown",
   "metadata": {},
   "source": [
    "## Calculate and Visualize total contributions"
   ]
  },
  {
   "cell_type": "code",
   "execution_count": 20,
   "metadata": {},
   "outputs": [
    {
     "data": {
      "text/html": [
       "<div>\n",
       "<style scoped>\n",
       "    .dataframe tbody tr th:only-of-type {\n",
       "        vertical-align: middle;\n",
       "    }\n",
       "\n",
       "    .dataframe tbody tr th {\n",
       "        vertical-align: top;\n",
       "    }\n",
       "\n",
       "    .dataframe thead th {\n",
       "        text-align: right;\n",
       "    }\n",
       "</style>\n",
       "<table border=\"1\" class=\"dataframe\">\n",
       "  <thead>\n",
       "    <tr style=\"text-align: right;\">\n",
       "      <th></th>\n",
       "      <th>CID</th>\n",
       "      <th>amount</th>\n",
       "      <th>year</th>\n",
       "    </tr>\n",
       "  </thead>\n",
       "  <tbody>\n",
       "    <tr>\n",
       "      <th>0</th>\n",
       "      <td></td>\n",
       "      <td>1885568.0</td>\n",
       "      <td>2016</td>\n",
       "    </tr>\n",
       "    <tr>\n",
       "      <th>1</th>\n",
       "      <td>C00000059</td>\n",
       "      <td>3114.0</td>\n",
       "      <td>2016</td>\n",
       "    </tr>\n",
       "    <tr>\n",
       "      <th>2</th>\n",
       "      <td>C00000422</td>\n",
       "      <td>58656.0</td>\n",
       "      <td>2016</td>\n",
       "    </tr>\n",
       "    <tr>\n",
       "      <th>3</th>\n",
       "      <td>C00000638</td>\n",
       "      <td>11596.0</td>\n",
       "      <td>2016</td>\n",
       "    </tr>\n",
       "    <tr>\n",
       "      <th>4</th>\n",
       "      <td>C00000729</td>\n",
       "      <td>30655.0</td>\n",
       "      <td>2016</td>\n",
       "    </tr>\n",
       "  </tbody>\n",
       "</table>\n",
       "</div>"
      ],
      "text/plain": [
       "         CID     amount  year\n",
       "0             1885568.0  2016\n",
       "1  C00000059     3114.0  2016\n",
       "2  C00000422    58656.0  2016\n",
       "3  C00000638    11596.0  2016\n",
       "4  C00000729    30655.0  2016"
      ]
     },
     "execution_count": 20,
     "metadata": {},
     "output_type": "execute_result"
    }
   ],
   "source": [
    "total_df = pd.concat([df, idf])\n",
    "total_df.head()"
   ]
  },
  {
   "cell_type": "code",
   "execution_count": 21,
   "metadata": {},
   "outputs": [],
   "source": [
    "pac_cycle_total = pdf.groupby('year').sum()\n",
    "ind_cycle_total = idf.groupby('year').sum()\n",
    "cycle_total = total_df.groupby('year').sum()"
   ]
  },
  {
   "cell_type": "code",
   "execution_count": 32,
   "metadata": {},
   "outputs": [
    {
     "data": {
      "image/png": "[encoded data removed]",
      "text/plain": [
       "<matplotlib.figure.Figure at 0x7f0a10a72eb8>"
      ]
     },
     "metadata": {},
     "output_type": "display_data"
    }
   ],
   "source": [
    "plt.style.use('seaborn')\n",
    "plt.plot(cycle_total)\n",
    "ax = plt.gca()\n",
    "ax.get_xaxis().get_major_formatter().set_scientific(False)\n",
    "plt.title(\"Total Congressional Campaign\\nContributions Over Time\", size=18)\n",
    "plt.ylim([0, 1.3e10])\n",
    "plt.xlabel(\"Year\")\n",
    "plt.ylabel(\"Dollars\")\n",
    "plt.show()"
   ]
  },
  {
   "cell_type": "markdown",
   "metadata": {},
   "source": [
    "## Calculate total contributions per year per candidate; visualize distributions"
   ]
  },
  {
   "cell_type": "code",
   "execution_count": 44,
   "metadata": {},
   "outputs": [],
   "source": [
    "years = [2004, 2006, 2008, 2012, 2014, 2016]\n",
    "distributions = []\n",
    "for year in years:\n",
    "    distributions.append(total_df[total_df['year'] == year].groupby('CID')['amount'].sum())"
   ]
  },
  {
   "cell_type": "code",
   "execution_count": 95,
   "metadata": {},
   "outputs": [
    {
     "data": {
      "image/png": "[encoded data removed]",
      "text/plain": [
       "<matplotlib.figure.Figure at 0x7f0a0ba88710>"
      ]
     },
     "metadata": {},
     "output_type": "display_data"
    }
   ],
   "source": [
    "fig, axs = plt.subplots(nrows=6, ncols=1, sharex=True, sharey=True)\n",
    "plt.suptitle(\"Distribution of Total Per Candidate\\nContributions Over Time\", size=18)\n",
    "for year, dist, ax in zip(years, distributions, axs):\n",
    "    ax.hist([i for i in dist if (i > 10000 and i < 6e8)], bins=np.linspace(start=0, stop=6e8, num=10))\n",
    "    ax.set_yscale('log', nonposy='clip')\n",
    "    ax.set_xlim([0, 6e8])\n",
    "    ax.set_ylabel(year)\n",
    "\n",
    "plt.show()"
   ]
  },
  {
   "cell_type": "code",
   "execution_count": null,
   "metadata": {},
   "outputs": [],
   "source": []
  },
  {
   "cell_type": "code",
   "execution_count": 99,
   "metadata": {},
   "outputs": [
    {
     "name": "stdout",
     "output_type": "stream",
     "text": [
      "771834739\n",
      "702301104\n",
      "964987913\n",
      "1830641860\n",
      "1210734287\n",
      "1943023245\n"
     ]
    }
   ],
   "source": [
    "ppl = []\n",
    "ipl = []\n",
    "for p, i, y in zip(pac_cycle_total['amount'], ind_cycle_total['amount'], years):\n",
    "    total = p + i\n",
    "    pp = p / total\n",
    "    ip = i / total\n",
    "    ppl.append(pp)\n",
    "    ipl.append(ip)"
   ]
  },
  {
   "cell_type": "code",
   "execution_count": null,
   "metadata": {},
   "outputs": [],
   "source": []
  }
 ],
 "metadata": {
  "kernelspec": {
   "display_name": "Python 3",
   "language": "python",
   "name": "python3"
  },
  "language_info": {
   "codemirror_mode": {
    "name": "ipython",
    "version": 3
   },
   "file_extension": ".py",
   "mimetype": "text/x-python",
   "name": "python",
   "nbconvert_exporter": "python",
   "pygments_lexer": "ipython3",
   "version": "3.6.4"
  }
 },
 "nbformat": 4,
 "nbformat_minor": 2
}
