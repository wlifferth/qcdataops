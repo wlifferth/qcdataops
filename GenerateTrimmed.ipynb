{
 "cells": [
  {
   "cell_type": "code",
   "execution_count": 23,
   "metadata": {},
   "outputs": [],
   "source": [
    "import pandas as pd\n",
    "import numpy as np\n",
    "import matplotlib.pyplot as plt\n",
    "import os"
   ]
  },
  {
   "cell_type": "code",
   "execution_count": 24,
   "metadata": {},
   "outputs": [],
   "source": [
    "base_dir = 'OpenSecrets'\n",
    "dir_stub = 'CampaignFin'"
   ]
  },
  {
   "cell_type": "code",
   "execution_count": 25,
   "metadata": {},
   "outputs": [
    {
     "name": "stdout",
     "output_type": "stream",
     "text": [
      "2006\n",
      "2012\n",
      "2008\n",
      "2002\n"
     ]
    },
    {
     "name": "stderr",
     "output_type": "stream",
     "text": [
      "/home/wlifferth/anaconda3/lib/python3.6/site-packages/IPython/core/interactiveshell.py:2728: DtypeWarning: Columns (7) have mixed types. Specify dtype option on import or set low_memory=False.\n",
      "  interactivity=interactivity, compiler=compiler, result=result)\n"
     ]
    },
    {
     "name": "stdout",
     "output_type": "stream",
     "text": [
      "2016\n",
      "2004\n",
      "2014\n",
      "2010\n",
      "2000\n"
     ]
    }
   ],
   "source": [
    "# Read in and write out individual\n",
    "for d in os.listdir(base_dir):\n",
    "    if d[:11] == dir_stub[:11]:\n",
    "        year = 2000 + int(d[11:])\n",
    "        print(year)\n",
    "        cdir = os.path.join(base_dir, d)\n",
    "        cdir = os.path.join(cdir, 'indivs')\n",
    "        df_list = []\n",
    "        # Read in individual contributions\n",
    "        for f in os.listdir(cdir):\n",
    "            if f[:6] == 'indivs':\n",
    "                tmp = pd.read_csv(os.path.join(cdir, f), sep=\";\")\n",
    "                # Remove refunds\n",
    "                tmp = tmp[tmp['amount'] > 0]\n",
    "                tmp = tmp[['CID', 'amount']].groupby('CID').sum()\n",
    "                df_list.append(tmp)\n",
    "        df = pd.concat(df_list)\n",
    "        df.to_csv('trimmedData/{}i.csv'.format(year))"
   ]
  },
  {
   "cell_type": "code",
   "execution_count": 26,
   "metadata": {},
   "outputs": [
    {
     "name": "stdout",
     "output_type": "stream",
     "text": [
      "2006\n",
      "2012\n",
      "2008\n",
      "2002\n",
      "2016\n",
      "2004\n",
      "2014\n",
      "2010\n",
      "2000\n"
     ]
    }
   ],
   "source": [
    "# Read in and write out pac\n",
    "for d in os.listdir(base_dir):\n",
    "    if d[:11] == dir_stub[:11]:\n",
    "        year = 2000 + int(d[11:])\n",
    "        print(year)\n",
    "        cdir = os.path.join(base_dir, d)\n",
    "        cdir = os.path.join(cdir, 'PAC')\n",
    "        df_list = []\n",
    "        # Read in pac contributions\n",
    "        for f in os.listdir(cdir):\n",
    "            if f[:4] == 'pacs' and f[-4:] == '.csv':\n",
    "                tmp = pd.read_csv(os.path.join(cdir, f), sep=\";\")\n",
    "                # Remove refunds\n",
    "                tmp = tmp[tmp['amount'] > 0]\n",
    "                tmp = tmp[['CID', 'amount']].groupby('CID').sum()\n",
    "                df_list.append(tmp)\n",
    "        df = pd.concat(df_list)\n",
    "        df.to_csv('trimmedData/{}p.csv'.format(year))"
   ]
  },
  {
   "cell_type": "code",
   "execution_count": null,
   "metadata": {},
   "outputs": [],
   "source": []
  }
 ],
 "metadata": {
  "kernelspec": {
   "display_name": "Python 3",
   "language": "python",
   "name": "python3"
  },
  "language_info": {
   "codemirror_mode": {
    "name": "ipython",
    "version": 3
   },
   "file_extension": ".py",
   "mimetype": "text/x-python",
   "name": "python",
   "nbconvert_exporter": "python",
   "pygments_lexer": "ipython3",
   "version": "3.6.4"
  }
 },
 "nbformat": 4,
 "nbformat_minor": 2
}
