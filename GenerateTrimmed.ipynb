{
 "cells": [
  {
   "cell_type": "code",
   "execution_count": 1,
   "metadata": {},
   "outputs": [],
   "source": [
    "import pandas as pd\n",
    "import numpy as np\n",
    "import matplotlib.pyplot as plt\n",
    "import os"
   ]
  },
  {
   "cell_type": "code",
   "execution_count": 2,
   "metadata": {},
   "outputs": [],
   "source": [
    "base_dir = 'OpenSecrets'\n",
    "dir_stub = 'CampaignFin'"
   ]
  },
  {
   "cell_type": "code",
   "execution_count": 6,
   "metadata": {},
   "outputs": [
    {
     "name": "stdout",
     "output_type": "stream",
     "text": [
      "2006\n",
      "2012\n",
      "2008\n",
      "2016\n",
      "2004\n",
      "2014\n"
     ]
    }
   ],
   "source": [
    "# Read in and write out individual\n",
    "for d in os.listdir(base_dir):\n",
    "    if d[:11] == dir_stub[:11]:\n",
    "        year = 2000 + int(d[11:])\n",
    "        print(year)\n",
    "        cdir = os.path.join(base_dir, d)\n",
    "        cdir = os.path.join(cdir, 'indivs')\n",
    "        df_list = []\n",
    "        # Read in individual contributions\n",
    "        for f in os.listdir(cdir):\n",
    "            if f[:6] == 'indivs':\n",
    "                tmp = pd.read_csv(os.path.join(cdir, f), sep=\";\")\n",
    "                tmp = tmp[['CID', 'amount']].groupby('CID').sum()\n",
    "                df_list.append(tmp)\n",
    "        df = pd.concat(df_list)\n",
    "        df.to_csv('trimmedData/{}i.csv'.format(year))"
   ]
  },
  {
   "cell_type": "code",
   "execution_count": 5,
   "metadata": {},
   "outputs": [
    {
     "name": "stdout",
     "output_type": "stream",
     "text": [
      "2006\n",
      "['pacs06.txt', 'cleanPAC.py', 'pacs06.part.0.csv']\n",
      "2012\n",
      "['pacs12.part.0.csv', 'pacs12.txt', 'cleanPAC.py']\n",
      "2008\n",
      "['pacs08.part.0.csv', 'cleanPAC.py', 'pacs08.txt']\n",
      "2016\n",
      "['pacs_semi.txt', 'cleanotherPAC.py', 'pacs16.part.0.csv', 'cleanPAC.py', '.pac_other16.txt.swp', 'pac_other16.txt']\n",
      "2004\n",
      "['pacs04.part.0.csv', 'pacs04.txt', 'cleanPAC.py']\n",
      "2014\n",
      "['pacs14.txt', 'cleanPAC.py', 'pacs14.part.0.csv']\n"
     ]
    }
   ],
   "source": [
    "# Read in and write out pac\n",
    "for d in os.listdir(base_dir):\n",
    "    if d[:11] == dir_stub[:11]:\n",
    "        year = 2000 + int(d[11:])\n",
    "        print(year)\n",
    "        cdir = os.path.join(base_dir, d)\n",
    "        cdir = os.path.join(cdir, 'PAC')\n",
    "        df_list = []\n",
    "        # Read in pac contributions\n",
    "        print(os.listdir(cdir))\n",
    "        for f in os.listdir(cdir):\n",
    "            if f[:4] == 'pacs' and f[-4:] == '.csv':\n",
    "                tmp = pd.read_csv(os.path.join(cdir, f), sep=\";\")\n",
    "                tmp = tmp[['CID', 'amount']].groupby('CID').sum()\n",
    "                df_list.append(tmp)\n",
    "        df = pd.concat(df_list)\n",
    "        df.to_csv('trimmedData/{}p.csv'.format(year))"
   ]
  },
  {
   "cell_type": "code",
   "execution_count": null,
   "metadata": {},
   "outputs": [],
   "source": []
  }
 ],
 "metadata": {
  "kernelspec": {
   "display_name": "Python 3",
   "language": "python",
   "name": "python3"
  },
  "language_info": {
   "codemirror_mode": {
    "name": "ipython",
    "version": 3
   },
   "file_extension": ".py",
   "mimetype": "text/x-python",
   "name": "python",
   "nbconvert_exporter": "python",
   "pygments_lexer": "ipython3",
   "version": "3.6.4"
  }
 },
 "nbformat": 4,
 "nbformat_minor": 2
}
