{
 "cells": [
  {
   "cell_type": "code",
   "execution_count": 53,
   "metadata": {},
   "outputs": [],
   "source": [
    "import pandas as pd\n",
    "import numpy as np\n",
    "import matplotlib.pyplot as plt\n",
    "import seaborn as sns\n",
    "import numpy as np\n",
    "from sklearn.linear_model import LogisticRegression"
   ]
  },
  {
   "cell_type": "code",
   "execution_count": 2,
   "metadata": {},
   "outputs": [
    {
     "name": "stdout",
     "output_type": "stream",
     "text": [
      "         CID          i\n",
      "0             1956547.0\n",
      "1  C00000059     3114.0\n",
      "2  C00000422    59031.0\n",
      "3  C00000638    11596.0\n",
      "4  C00000729    30655.0\n",
      "         CID          p\n",
      "0  N00000019  157030977\n",
      "1  N00000036   14849441\n",
      "2  N00000078     807910\n",
      "3  N00000153    1347842\n",
      "4  N00000179     472156\n"
     ]
    }
   ],
   "source": [
    "# Get dontation data\n",
    "ind_df = pd.read_csv('../trimmedData/2016i.csv', names=['CID', 'i'], header=0)\n",
    "print(ind_df.head())\n",
    "pac_df = pd.read_csv('../trimmedData/2016p.csv', names=['CID', 'p'], header=0)\n",
    "print(pac_df.head())"
   ]
  },
  {
   "cell_type": "code",
   "execution_count": 3,
   "metadata": {},
   "outputs": [
    {
     "name": "stdout",
     "output_type": "stream",
     "text": [
      "69499\n"
     ]
    },
    {
     "data": {
      "text/html": [
       "<div>\n",
       "<style scoped>\n",
       "    .dataframe tbody tr th:only-of-type {\n",
       "        vertical-align: middle;\n",
       "    }\n",
       "\n",
       "    .dataframe tbody tr th {\n",
       "        vertical-align: top;\n",
       "    }\n",
       "\n",
       "    .dataframe thead th {\n",
       "        text-align: right;\n",
       "    }\n",
       "</style>\n",
       "<table border=\"1\" class=\"dataframe\">\n",
       "  <thead>\n",
       "    <tr style=\"text-align: right;\">\n",
       "      <th></th>\n",
       "      <th>CID</th>\n",
       "      <th>i</th>\n",
       "      <th>p</th>\n",
       "    </tr>\n",
       "  </thead>\n",
       "  <tbody>\n",
       "    <tr>\n",
       "      <th>0</th>\n",
       "      <td></td>\n",
       "      <td>1956547.0</td>\n",
       "      <td>0.0</td>\n",
       "    </tr>\n",
       "    <tr>\n",
       "      <th>1</th>\n",
       "      <td></td>\n",
       "      <td>457834.0</td>\n",
       "      <td>0.0</td>\n",
       "    </tr>\n",
       "    <tr>\n",
       "      <th>2</th>\n",
       "      <td></td>\n",
       "      <td>316190.0</td>\n",
       "      <td>0.0</td>\n",
       "    </tr>\n",
       "    <tr>\n",
       "      <th>3</th>\n",
       "      <td></td>\n",
       "      <td>60111.0</td>\n",
       "      <td>0.0</td>\n",
       "    </tr>\n",
       "    <tr>\n",
       "      <th>4</th>\n",
       "      <td></td>\n",
       "      <td>23200.0</td>\n",
       "      <td>0.0</td>\n",
       "    </tr>\n",
       "  </tbody>\n",
       "</table>\n",
       "</div>"
      ],
      "text/plain": [
       "         CID          i    p\n",
       "0             1956547.0  0.0\n",
       "1              457834.0  0.0\n",
       "2              316190.0  0.0\n",
       "3               60111.0  0.0\n",
       "4               23200.0  0.0"
      ]
     },
     "execution_count": 3,
     "metadata": {},
     "output_type": "execute_result"
    }
   ],
   "source": [
    "df = ind_df.merge(pac_df, how='outer', on='CID').fillna(0)\n",
    "print(len(df))\n",
    "df.head()"
   ]
  },
  {
   "cell_type": "code",
   "execution_count": 4,
   "metadata": {},
   "outputs": [
    {
     "data": {
      "text/html": [
       "<div>\n",
       "<style scoped>\n",
       "    .dataframe tbody tr th:only-of-type {\n",
       "        vertical-align: middle;\n",
       "    }\n",
       "\n",
       "    .dataframe tbody tr th {\n",
       "        vertical-align: top;\n",
       "    }\n",
       "\n",
       "    .dataframe thead th {\n",
       "        text-align: right;\n",
       "    }\n",
       "</style>\n",
       "<table border=\"1\" class=\"dataframe\">\n",
       "  <thead>\n",
       "    <tr style=\"text-align: right;\">\n",
       "      <th></th>\n",
       "      <th>CID</th>\n",
       "      <th>i</th>\n",
       "      <th>p</th>\n",
       "      <th>total</th>\n",
       "    </tr>\n",
       "  </thead>\n",
       "  <tbody>\n",
       "    <tr>\n",
       "      <th>0</th>\n",
       "      <td></td>\n",
       "      <td>1956547.0</td>\n",
       "      <td>0.0</td>\n",
       "      <td>1956547.0</td>\n",
       "    </tr>\n",
       "    <tr>\n",
       "      <th>1</th>\n",
       "      <td></td>\n",
       "      <td>457834.0</td>\n",
       "      <td>0.0</td>\n",
       "      <td>457834.0</td>\n",
       "    </tr>\n",
       "    <tr>\n",
       "      <th>2</th>\n",
       "      <td></td>\n",
       "      <td>316190.0</td>\n",
       "      <td>0.0</td>\n",
       "      <td>316190.0</td>\n",
       "    </tr>\n",
       "    <tr>\n",
       "      <th>3</th>\n",
       "      <td></td>\n",
       "      <td>60111.0</td>\n",
       "      <td>0.0</td>\n",
       "      <td>60111.0</td>\n",
       "    </tr>\n",
       "    <tr>\n",
       "      <th>4</th>\n",
       "      <td></td>\n",
       "      <td>23200.0</td>\n",
       "      <td>0.0</td>\n",
       "      <td>23200.0</td>\n",
       "    </tr>\n",
       "  </tbody>\n",
       "</table>\n",
       "</div>"
      ],
      "text/plain": [
       "         CID          i    p      total\n",
       "0             1956547.0  0.0  1956547.0\n",
       "1              457834.0  0.0   457834.0\n",
       "2              316190.0  0.0   316190.0\n",
       "3               60111.0  0.0    60111.0\n",
       "4               23200.0  0.0    23200.0"
      ]
     },
     "execution_count": 4,
     "metadata": {},
     "output_type": "execute_result"
    }
   ],
   "source": [
    "# Create a drived column of total\n",
    "df['total'] = df['i'] + df['p']\n",
    "df.head()"
   ]
  },
  {
   "cell_type": "code",
   "execution_count": 5,
   "metadata": {},
   "outputs": [],
   "source": [
    "# Read in the list of elected representatives"
   ]
  },
  {
   "cell_type": "code",
   "execution_count": 6,
   "metadata": {},
   "outputs": [
    {
     "data": {
      "text/html": [
       "<div>\n",
       "<style scoped>\n",
       "    .dataframe tbody tr th:only-of-type {\n",
       "        vertical-align: middle;\n",
       "    }\n",
       "\n",
       "    .dataframe tbody tr th {\n",
       "        vertical-align: top;\n",
       "    }\n",
       "\n",
       "    .dataframe thead th {\n",
       "        text-align: right;\n",
       "    }\n",
       "</style>\n",
       "<table border=\"1\" class=\"dataframe\">\n",
       "  <thead>\n",
       "    <tr style=\"text-align: right;\">\n",
       "      <th></th>\n",
       "      <th>name</th>\n",
       "      <th>person</th>\n",
       "      <th>CID</th>\n",
       "    </tr>\n",
       "  </thead>\n",
       "  <tbody>\n",
       "    <tr>\n",
       "      <th>0</th>\n",
       "      <td>Robert Aderholt</td>\n",
       "      <td>400004</td>\n",
       "      <td>N00003028</td>\n",
       "    </tr>\n",
       "    <tr>\n",
       "      <th>1</th>\n",
       "      <td>Joe Barton</td>\n",
       "      <td>400018</td>\n",
       "      <td>N00005656</td>\n",
       "    </tr>\n",
       "    <tr>\n",
       "      <th>2</th>\n",
       "      <td>Xavier Becerra</td>\n",
       "      <td>400021</td>\n",
       "      <td>N00009774</td>\n",
       "    </tr>\n",
       "    <tr>\n",
       "      <th>3</th>\n",
       "      <td>Rob Bishop</td>\n",
       "      <td>400029</td>\n",
       "      <td>N00025292</td>\n",
       "    </tr>\n",
       "    <tr>\n",
       "      <th>4</th>\n",
       "      <td>Sanford Bishop</td>\n",
       "      <td>400030</td>\n",
       "      <td>N00002674</td>\n",
       "    </tr>\n",
       "  </tbody>\n",
       "</table>\n",
       "</div>"
      ],
      "text/plain": [
       "              name  person        CID\n",
       "0  Robert Aderholt  400004  N00003028\n",
       "1       Joe Barton  400018  N00005656\n",
       "2   Xavier Becerra  400021  N00009774\n",
       "3       Rob Bishop  400029  N00025292\n",
       "4   Sanford Bishop  400030  N00002674"
      ]
     },
     "execution_count": 6,
     "metadata": {},
     "output_type": "execute_result"
    }
   ],
   "source": [
    "house = pd.read_csv(\"../lukeData/final2016House.csv\")\n",
    "senate = pd.read_csv(\"../lukeData/final2016Senate.csv\")\n",
    "elected_df = pd.concat([house, senate])\n",
    "elected_df.head()"
   ]
  },
  {
   "cell_type": "code",
   "execution_count": 7,
   "metadata": {},
   "outputs": [
    {
     "name": "stdout",
     "output_type": "stream",
     "text": [
      "534\n",
      "385\n"
     ]
    }
   ],
   "source": [
    "print(len(elected_df))\n",
    "elected_df = elected_df.drop_duplicates(subset=['CID'])\n",
    "print(len(elected_df))"
   ]
  },
  {
   "cell_type": "code",
   "execution_count": 8,
   "metadata": {},
   "outputs": [],
   "source": [
    "elected = list(elected_df[elected_df['CID'] != -1]['CID'])"
   ]
  },
  {
   "cell_type": "code",
   "execution_count": 9,
   "metadata": {},
   "outputs": [
    {
     "data": {
      "text/html": [
       "<div>\n",
       "<style scoped>\n",
       "    .dataframe tbody tr th:only-of-type {\n",
       "        vertical-align: middle;\n",
       "    }\n",
       "\n",
       "    .dataframe tbody tr th {\n",
       "        vertical-align: top;\n",
       "    }\n",
       "\n",
       "    .dataframe thead th {\n",
       "        text-align: right;\n",
       "    }\n",
       "</style>\n",
       "<table border=\"1\" class=\"dataframe\">\n",
       "  <thead>\n",
       "    <tr style=\"text-align: right;\">\n",
       "      <th></th>\n",
       "      <th>CID</th>\n",
       "      <th>i</th>\n",
       "      <th>p</th>\n",
       "      <th>total</th>\n",
       "      <th>elected</th>\n",
       "    </tr>\n",
       "  </thead>\n",
       "  <tbody>\n",
       "    <tr>\n",
       "      <th>0</th>\n",
       "      <td></td>\n",
       "      <td>1956547.0</td>\n",
       "      <td>0.0</td>\n",
       "      <td>1956547.0</td>\n",
       "      <td>False</td>\n",
       "    </tr>\n",
       "    <tr>\n",
       "      <th>1</th>\n",
       "      <td></td>\n",
       "      <td>457834.0</td>\n",
       "      <td>0.0</td>\n",
       "      <td>457834.0</td>\n",
       "      <td>False</td>\n",
       "    </tr>\n",
       "    <tr>\n",
       "      <th>2</th>\n",
       "      <td></td>\n",
       "      <td>316190.0</td>\n",
       "      <td>0.0</td>\n",
       "      <td>316190.0</td>\n",
       "      <td>False</td>\n",
       "    </tr>\n",
       "    <tr>\n",
       "      <th>3</th>\n",
       "      <td></td>\n",
       "      <td>60111.0</td>\n",
       "      <td>0.0</td>\n",
       "      <td>60111.0</td>\n",
       "      <td>False</td>\n",
       "    </tr>\n",
       "    <tr>\n",
       "      <th>4</th>\n",
       "      <td></td>\n",
       "      <td>23200.0</td>\n",
       "      <td>0.0</td>\n",
       "      <td>23200.0</td>\n",
       "      <td>False</td>\n",
       "    </tr>\n",
       "  </tbody>\n",
       "</table>\n",
       "</div>"
      ],
      "text/plain": [
       "         CID          i    p      total  elected\n",
       "0             1956547.0  0.0  1956547.0    False\n",
       "1              457834.0  0.0   457834.0    False\n",
       "2              316190.0  0.0   316190.0    False\n",
       "3               60111.0  0.0    60111.0    False\n",
       "4               23200.0  0.0    23200.0    False"
      ]
     },
     "execution_count": 9,
     "metadata": {},
     "output_type": "execute_result"
    }
   ],
   "source": [
    "df['elected'] = df['CID'].apply(lambda x: x in elected)\n",
    "df.head()"
   ]
  },
  {
   "cell_type": "code",
   "execution_count": 10,
   "metadata": {},
   "outputs": [
    {
     "name": "stdout",
     "output_type": "stream",
     "text": [
      "69499\n",
      "65528\n",
      "7245\n"
     ]
    },
    {
     "data": {
      "text/plain": [
       "False    6864\n",
       "True      381\n",
       "Name: elected, dtype: int64"
      ]
     },
     "execution_count": 10,
     "metadata": {},
     "output_type": "execute_result"
    }
   ],
   "source": [
    "print(len(df))\n",
    "df = df[(df['elected']) | (df['total'] < 500000)]\n",
    "print(len(df))\n",
    "df = df.drop_duplicates(subset=['CID'])\n",
    "print(len(df))\n",
    "df['elected'].value_counts()"
   ]
  },
  {
   "cell_type": "code",
   "execution_count": 11,
   "metadata": {},
   "outputs": [],
   "source": [
    "def noisify(x):\n",
    "    nx = x + (np.random.random() * x * .1)\n",
    "    if nx < 0:\n",
    "        nx = 0\n",
    "    return nx"
   ]
  },
  {
   "cell_type": "code",
   "execution_count": 12,
   "metadata": {},
   "outputs": [
    {
     "data": {
      "text/plain": [
       "<matplotlib.axes._subplots.AxesSubplot at 0x7ff5cd289f28>"
      ]
     },
     "execution_count": 12,
     "metadata": {},
     "output_type": "execute_result"
    },
    {
     "data": {
      "image/png": "[encoded data removed]",
      "text/plain": [
       "<matplotlib.figure.Figure at 0x7ff5cd282f98>"
      ]
     },
     "metadata": {},
     "output_type": "display_data"
    }
   ],
   "source": [
    "plt.style.use('seaborn')\n",
    "sns.boxplot(y='total', x='elected', data=df)"
   ]
  },
  {
   "cell_type": "code",
   "execution_count": 13,
   "metadata": {},
   "outputs": [
    {
     "data": {
      "image/png": "[encoded data removed]",
      "text/plain": [
       "<matplotlib.figure.Figure at 0x7ff5c407fb70>"
      ]
     },
     "metadata": {},
     "output_type": "display_data"
    }
   ],
   "source": [
    "plt.style.use('seaborn')\n",
    "plt.title(\"Distribution of Total Contributions (Elected)\", size=24)\n",
    "sns.violinplot(df[df['elected'] == True]['total'] / 1000000)\n",
    "sns.swarmplot(df[df['elected'] == True]['total'].apply(noisify) / 1000000, color=\"black\")\n",
    "plt.xlabel(\"Total Contributions (in millions of USD)\", size=18)\n",
    "plt.show()"
   ]
  },
  {
   "cell_type": "code",
   "execution_count": 14,
   "metadata": {},
   "outputs": [
    {
     "data": {
      "image/png": "[encoded data removed]",
      "text/plain": [
       "<matplotlib.figure.Figure at 0x7ff5cd282f60>"
      ]
     },
     "metadata": {},
     "output_type": "display_data"
    }
   ],
   "source": [
    "plt.style.use('seaborn')\n",
    "plt.title(\"Distribution of Total Contributions (Not Elected)\", size=24)\n",
    "sns.violinplot(df[df['elected'] == False]['total']/1000)\n",
    "plt.xlabel(\"Total Contributions (in thousands of USD)\", size=18)\n",
    "plt.show()"
   ]
  },
  {
   "cell_type": "code",
   "execution_count": 50,
   "metadata": {},
   "outputs": [
    {
     "data": {
      "image/png": "[encoded data removed]",
      "text/plain": [
       "<matplotlib.figure.Figure at 0x7ff5ac23af28>"
      ]
     },
     "metadata": {},
     "output_type": "display_data"
    }
   ],
   "source": [
    "plt.style.use('seaborn')\n",
    "plt.scatter(df[df['elected'] == True]['i'] / 100000, df[df['elected'] == True]['p'] / 100000, color=(0.2, 0.3, 0.5, 0.3), s=100)\n",
    "plt.title(\"PAC Contributions vs Individual\\nContributions of Elected\", size=24)\n",
    "plt.xlabel(\"Individual Contributions (Hundreds of Thousands USD)\", size=18)\n",
    "plt.ylabel(\"PAC Contributions\\n(Hundreds of Thousands USD)\", size=18)\n",
    "plt.annotate(s=\"Marco Rubio (R FL)\", xy=(7, 630), xytext=(5, 550), arrowprops={})\n",
    "plt.annotate(s=\"Richard Burr (R NC)\", xy=(4.1, 340), xytext=(4.5, 400), arrowprops={})\n",
    "plt.annotate(s=\"Patrick Murphy (D FL)\", xy=(.75, 490), xytext=(1, 550), arrowprops={})\n",
    "plt.annotate(s=\"Martha McSally (R AZ)\", xy=(7.1, 30), xytext=(5, 100), arrowprops={})\n",
    "plt.show()"
   ]
  },
  {
   "cell_type": "code",
   "execution_count": 51,
   "metadata": {},
   "outputs": [
    {
     "name": "stderr",
     "output_type": "stream",
     "text": [
      "/home/wlifferth/anaconda3/lib/python3.6/site-packages/ipykernel_launcher.py:2: RuntimeWarning: divide by zero encountered in log\n",
      "  \n"
     ]
    },
    {
     "data": {
      "image/png": "[encoded data removed]",
      "text/plain": [
       "<matplotlib.figure.Figure at 0x7ff5ac245588>"
      ]
     },
     "metadata": {},
     "output_type": "display_data"
    }
   ],
   "source": [
    "plt.style.use('seaborn')\n",
    "plt.scatter(np.log(df[df['elected'] == True]['i']), np.log(df[df['elected'] == True]['p']), color=(0.2, 0.3, 0.5, 0.3), s=100)\n",
    "plt.title(\"PAC Contributions vs Individual\\nContributions of Elected; Log Scale\", size=24)\n",
    "plt.xlabel(\"Individual Contributions\", size=18)\n",
    "plt.ylabel(\"PAC Contributions\", size=18)\n",
    "plt.show()"
   ]
  },
  {
   "cell_type": "markdown",
   "metadata": {},
   "source": [
    "## Get names df"
   ]
  },
  {
   "cell_type": "code",
   "execution_count": 17,
   "metadata": {},
   "outputs": [],
   "source": [
    "import sys\n",
    "sys.path.insert(0, '../naming')\n",
    "from name16 import name"
   ]
  },
  {
   "cell_type": "code",
   "execution_count": 18,
   "metadata": {},
   "outputs": [
    {
     "name": "stderr",
     "output_type": "stream",
     "text": [
      "../naming/name16.py:4: ParserWarning: Falling back to the 'python' engine because the 'c' engine does not support regex separators (separators > 1 char and different from '\\s+' are interpreted as regex); you can avoid this warning by specifying engine='python'.\n",
      "  cand_data = pd.read_csv(\"../OpenSecrets/CampaignFin16/cands16.txt\", sep=\"\\|,\\|\", names=['year', 'cand_id', 'com_id', 'name', 'party', 'state'], index_col=False)\n"
     ]
    },
    {
     "data": {
      "text/html": [
       "<div>\n",
       "<style scoped>\n",
       "    .dataframe tbody tr th:only-of-type {\n",
       "        vertical-align: middle;\n",
       "    }\n",
       "\n",
       "    .dataframe tbody tr th {\n",
       "        vertical-align: top;\n",
       "    }\n",
       "\n",
       "    .dataframe thead th {\n",
       "        text-align: right;\n",
       "    }\n",
       "</style>\n",
       "<table border=\"1\" class=\"dataframe\">\n",
       "  <thead>\n",
       "    <tr style=\"text-align: right;\">\n",
       "      <th></th>\n",
       "      <th>CID</th>\n",
       "      <th>year</th>\n",
       "      <th>cand_id</th>\n",
       "      <th>com_id</th>\n",
       "      <th>name</th>\n",
       "      <th>party</th>\n",
       "      <th>state</th>\n",
       "      <th>district</th>\n",
       "    </tr>\n",
       "  </thead>\n",
       "  <tbody>\n",
       "    <tr>\n",
       "      <th>0</th>\n",
       "      <td>N00000078</td>\n",
       "      <td>2016</td>\n",
       "      <td>H2NY14037</td>\n",
       "      <td>N00000078</td>\n",
       "      <td>Carolyn B Maloney</td>\n",
       "      <td>D</td>\n",
       "      <td>NY</td>\n",
       "      <td>NY12</td>\n",
       "    </tr>\n",
       "    <tr>\n",
       "      <th>1</th>\n",
       "      <td>N00000153</td>\n",
       "      <td>2016</td>\n",
       "      <td>H8MA02041</td>\n",
       "      <td>N00000153</td>\n",
       "      <td>Richard E Neal</td>\n",
       "      <td>D</td>\n",
       "      <td>MA</td>\n",
       "      <td>MA01</td>\n",
       "    </tr>\n",
       "    <tr>\n",
       "      <th>2</th>\n",
       "      <td>N00000179</td>\n",
       "      <td>2016</td>\n",
       "      <td>H4MA03022</td>\n",
       "      <td>N00000179</td>\n",
       "      <td>James P McGovern</td>\n",
       "      <td>D</td>\n",
       "      <td>MA</td>\n",
       "      <td>MA02</td>\n",
       "    </tr>\n",
       "    <tr>\n",
       "      <th>3</th>\n",
       "      <td>N00000267</td>\n",
       "      <td>2016</td>\n",
       "      <td>H8MA08071</td>\n",
       "      <td>N00000267</td>\n",
       "      <td>Michael E Capuano</td>\n",
       "      <td>D</td>\n",
       "      <td>MA</td>\n",
       "      <td>MA07</td>\n",
       "    </tr>\n",
       "    <tr>\n",
       "      <th>4</th>\n",
       "      <td>N00000515</td>\n",
       "      <td>2016</td>\n",
       "      <td>H6VT00160</td>\n",
       "      <td>N00000515</td>\n",
       "      <td>Peter Welch</td>\n",
       "      <td>D</td>\n",
       "      <td>VT</td>\n",
       "      <td>VT01</td>\n",
       "    </tr>\n",
       "  </tbody>\n",
       "</table>\n",
       "</div>"
      ],
      "text/plain": [
       "         CID  year    cand_id     com_id                name party state  \\\n",
       "0  N00000078  2016  H2NY14037  N00000078  Carolyn B Maloney      D    NY   \n",
       "1  N00000153  2016  H8MA02041  N00000153     Richard E Neal      D    MA   \n",
       "2  N00000179  2016  H4MA03022  N00000179   James P McGovern      D    MA   \n",
       "3  N00000267  2016  H8MA08071  N00000267  Michael E Capuano      D    MA   \n",
       "4  N00000515  2016  H6VT00160  N00000515        Peter Welch      D    VT   \n",
       "\n",
       "  district  \n",
       "0     NY12  \n",
       "1     MA01  \n",
       "2     MA02  \n",
       "3     MA07  \n",
       "4     VT01  "
      ]
     },
     "execution_count": 18,
     "metadata": {},
     "output_type": "execute_result"
    }
   ],
   "source": [
    "names = name(df[df['elected']==True][['CID']])\n",
    "names.head()"
   ]
  },
  {
   "cell_type": "code",
   "execution_count": 46,
   "metadata": {},
   "outputs": [
    {
     "name": "stdout",
     "output_type": "stream",
     "text": [
      "Highest total\n",
      "              CID         i           p       total  elected\n",
      "37024  N00030612  713663.0  66382164.0  67095827.0     True\n",
      "55161  N00030980   66489.0  47402391.0  47468880.0     True\n",
      "38328  N00033091  394782.0  32747994.0  33142776.0     True\n",
      "54653  N00002221     500.0  25408924.0  25409424.0     True\n",
      "33660  N00005195    4000.0  15839286.0  15843286.0     True\n",
      "Highest individual\n",
      "              CID         i           p       total  elected\n",
      "37024  N00030612  713663.0  66382164.0  67095827.0     True\n",
      "39313  N00033982  712246.0   1522561.0   2234807.0     True\n",
      "36465  N00029260  518365.0   2045681.0   2564046.0     True\n",
      "40695  N00035825  456638.0    498945.0    955583.0     True\n",
      "37510  N00031103  437698.0   5280089.0   5717787.0     True\n",
      "Highest pac\n",
      "              CID         i           p       total  elected\n",
      "37024  N00030612  713663.0  66382164.0  67095827.0     True\n",
      "55161  N00030980   66489.0  47402391.0  47468880.0     True\n",
      "38328  N00033091  394782.0  32747994.0  33142776.0     True\n",
      "54653  N00002221     500.0  25408924.0  25409424.0     True\n",
      "33660  N00005195    4000.0  15839286.0  15843286.0     True\n"
     ]
    }
   ],
   "source": [
    "print(\"Highest total\\n\", df[df['elected'] == True].sort_values(by=['total'], ascending=False).head())\n",
    "print(\"Highest individual\\n\", df[df['elected'] == True].sort_values(by=['i'], ascending=False).head())\n",
    "print(\"Highest pac\\n\", df[df['elected'] == True].sort_values(by=['p'], ascending=False).head())"
   ]
  },
  {
   "cell_type": "code",
   "execution_count": 43,
   "metadata": {},
   "outputs": [
    {
     "data": {
      "text/html": [
       "<div>\n",
       "<style scoped>\n",
       "    .dataframe tbody tr th:only-of-type {\n",
       "        vertical-align: middle;\n",
       "    }\n",
       "\n",
       "    .dataframe tbody tr th {\n",
       "        vertical-align: top;\n",
       "    }\n",
       "\n",
       "    .dataframe thead th {\n",
       "        text-align: right;\n",
       "    }\n",
       "</style>\n",
       "<table border=\"1\" class=\"dataframe\">\n",
       "  <thead>\n",
       "    <tr style=\"text-align: right;\">\n",
       "      <th></th>\n",
       "      <th>CID</th>\n",
       "      <th>year</th>\n",
       "      <th>cand_id</th>\n",
       "      <th>com_id</th>\n",
       "      <th>name</th>\n",
       "      <th>party</th>\n",
       "      <th>state</th>\n",
       "      <th>district</th>\n",
       "    </tr>\n",
       "  </thead>\n",
       "  <tbody>\n",
       "    <tr>\n",
       "      <th>183</th>\n",
       "      <td>N00030612</td>\n",
       "      <td>2016</td>\n",
       "      <td>S0FL00338</td>\n",
       "      <td>N00030612</td>\n",
       "      <td>Marco Rubio</td>\n",
       "      <td>R</td>\n",
       "      <td>FL</td>\n",
       "      <td>FLS2</td>\n",
       "    </tr>\n",
       "    <tr>\n",
       "      <th>184</th>\n",
       "      <td>N00030612</td>\n",
       "      <td>2016</td>\n",
       "      <td>P60006723</td>\n",
       "      <td>N00030612</td>\n",
       "      <td>Marco Rubio</td>\n",
       "      <td>R</td>\n",
       "      <td>FL</td>\n",
       "      <td>FLS2</td>\n",
       "    </tr>\n",
       "    <tr>\n",
       "      <th>243</th>\n",
       "      <td>N00033091</td>\n",
       "      <td>2016</td>\n",
       "      <td>S6FL00319</td>\n",
       "      <td>N00033091</td>\n",
       "      <td>Patrick Murphy</td>\n",
       "      <td>D</td>\n",
       "      <td>FL</td>\n",
       "      <td>FLS2</td>\n",
       "    </tr>\n",
       "    <tr>\n",
       "      <th>244</th>\n",
       "      <td>N00033091</td>\n",
       "      <td>2016</td>\n",
       "      <td>H2FL22072</td>\n",
       "      <td>N00033091</td>\n",
       "      <td>Patrick Murphy</td>\n",
       "      <td>D</td>\n",
       "      <td>FL</td>\n",
       "      <td>FLS2</td>\n",
       "    </tr>\n",
       "    <tr>\n",
       "      <th>333</th>\n",
       "      <td>N00002221</td>\n",
       "      <td>2016</td>\n",
       "      <td>S4NC00089</td>\n",
       "      <td>N00002221</td>\n",
       "      <td>Richard Burr</td>\n",
       "      <td>R</td>\n",
       "      <td>NC</td>\n",
       "      <td>NCS2</td>\n",
       "    </tr>\n",
       "    <tr>\n",
       "      <th>356</th>\n",
       "      <td>N00030980</td>\n",
       "      <td>2016</td>\n",
       "      <td>S0NH00235</td>\n",
       "      <td>N00030980</td>\n",
       "      <td>Kelly Ayotte</td>\n",
       "      <td>R</td>\n",
       "      <td>NH</td>\n",
       "      <td>NHS1</td>\n",
       "    </tr>\n",
       "  </tbody>\n",
       "</table>\n",
       "</div>"
      ],
      "text/plain": [
       "           CID  year    cand_id     com_id             name party state  \\\n",
       "183  N00030612  2016  S0FL00338  N00030612     Marco Rubio      R    FL   \n",
       "184  N00030612  2016  P60006723  N00030612     Marco Rubio      R    FL   \n",
       "243  N00033091  2016  S6FL00319  N00033091  Patrick Murphy      D    FL   \n",
       "244  N00033091  2016  H2FL22072  N00033091  Patrick Murphy      D    FL   \n",
       "333  N00002221  2016  S4NC00089  N00002221    Richard Burr      R    NC   \n",
       "356  N00030980  2016  S0NH00235  N00030980    Kelly Ayotte      R    NH   \n",
       "\n",
       "    district  \n",
       "183     FLS2  \n",
       "184     FLS2  \n",
       "243     FLS2  \n",
       "244     FLS2  \n",
       "333     NCS2  \n",
       "356     NHS1  "
      ]
     },
     "execution_count": 43,
     "metadata": {},
     "output_type": "execute_result"
    }
   ],
   "source": [
    "names[names['com_id'].isin(['N00030612', 'N00030980', 'N00033091', 'N00002221'])]"
   ]
  },
  {
   "cell_type": "code",
   "execution_count": 45,
   "metadata": {},
   "outputs": [
    {
     "data": {
      "text/html": [
       "<div>\n",
       "<style scoped>\n",
       "    .dataframe tbody tr th:only-of-type {\n",
       "        vertical-align: middle;\n",
       "    }\n",
       "\n",
       "    .dataframe tbody tr th {\n",
       "        vertical-align: top;\n",
       "    }\n",
       "\n",
       "    .dataframe thead th {\n",
       "        text-align: right;\n",
       "    }\n",
       "</style>\n",
       "<table border=\"1\" class=\"dataframe\">\n",
       "  <thead>\n",
       "    <tr style=\"text-align: right;\">\n",
       "      <th></th>\n",
       "      <th>CID</th>\n",
       "      <th>year</th>\n",
       "      <th>cand_id</th>\n",
       "      <th>com_id</th>\n",
       "      <th>name</th>\n",
       "      <th>party</th>\n",
       "      <th>state</th>\n",
       "      <th>district</th>\n",
       "    </tr>\n",
       "  </thead>\n",
       "  <tbody>\n",
       "    <tr>\n",
       "      <th>162</th>\n",
       "      <td>N00029260</td>\n",
       "      <td>2016</td>\n",
       "      <td>S6AZ00225</td>\n",
       "      <td>N00029260</td>\n",
       "      <td>Ann Kirkpatrick</td>\n",
       "      <td>D</td>\n",
       "      <td>AZ</td>\n",
       "      <td>AZS1</td>\n",
       "    </tr>\n",
       "    <tr>\n",
       "      <th>163</th>\n",
       "      <td>N00029260</td>\n",
       "      <td>2016</td>\n",
       "      <td>H8AZ01104</td>\n",
       "      <td>N00029260</td>\n",
       "      <td>Ann Kirkpatrick</td>\n",
       "      <td>D</td>\n",
       "      <td>AZ</td>\n",
       "      <td>AZS1</td>\n",
       "    </tr>\n",
       "    <tr>\n",
       "      <th>275</th>\n",
       "      <td>N00033982</td>\n",
       "      <td>2016</td>\n",
       "      <td>H2AZ08102</td>\n",
       "      <td>N00033982</td>\n",
       "      <td>Martha McSally</td>\n",
       "      <td>R</td>\n",
       "      <td>AZ</td>\n",
       "      <td>AZ02</td>\n",
       "    </tr>\n",
       "  </tbody>\n",
       "</table>\n",
       "</div>"
      ],
      "text/plain": [
       "           CID  year    cand_id     com_id              name party state  \\\n",
       "162  N00029260  2016  S6AZ00225  N00029260  Ann Kirkpatrick      D    AZ   \n",
       "163  N00029260  2016  H8AZ01104  N00029260  Ann Kirkpatrick      D    AZ   \n",
       "275  N00033982  2016  H2AZ08102  N00033982   Martha McSally      R    AZ   \n",
       "\n",
       "    district  \n",
       "162     AZS1  \n",
       "163     AZS1  \n",
       "275     AZ02  "
      ]
     },
     "execution_count": 45,
     "metadata": {},
     "output_type": "execute_result"
    }
   ],
   "source": [
    "names[names['com_id'].isin(['N00033982', 'N00029260'])]"
   ]
  },
  {
   "cell_type": "code",
   "execution_count": 70,
   "metadata": {},
   "outputs": [
    {
     "data": {
      "text/plain": [
       "404"
      ]
     },
     "execution_count": 70,
     "metadata": {},
     "output_type": "execute_result"
    }
   ],
   "source": []
  },
  {
   "cell_type": "markdown",
   "metadata": {},
   "source": [
    "## Predictions"
   ]
  },
  {
   "cell_type": "code",
   "execution_count": 71,
   "metadata": {},
   "outputs": [],
   "source": [
    "df['i_n'] = (df['i'] - df['i'].min()) / df['i'].max()\n",
    "df['p_n'] = (df['p'] - df['p'].min()) / df['p'].max()"
   ]
  },
  {
   "cell_type": "code",
   "execution_count": 73,
   "metadata": {},
   "outputs": [
    {
     "name": "stdout",
     "output_type": "stream",
     "text": [
      "0.9479641131815045\n",
      "[[3.45696284 6.58775631]]\n"
     ]
    }
   ],
   "source": [
    "clf = LogisticRegression()\n",
    "clf.fit(df[['i_n', 'p_n']], df['elected'])\n",
    "print(clf.score(df[['i_n', 'p_n']], df['elected']))\n",
    "coeff = clf.coef_\n",
    "print(coeff)"
   ]
  },
  {
   "cell_type": "code",
   "execution_count": null,
   "metadata": {},
   "outputs": [],
   "source": []
  },
  {
   "cell_type": "code",
   "execution_count": 64,
   "metadata": {},
   "outputs": [
    {
     "data": {
      "text/html": [
       "<div>\n",
       "<style scoped>\n",
       "    .dataframe tbody tr th:only-of-type {\n",
       "        vertical-align: middle;\n",
       "    }\n",
       "\n",
       "    .dataframe tbody tr th {\n",
       "        vertical-align: top;\n",
       "    }\n",
       "\n",
       "    .dataframe thead th {\n",
       "        text-align: right;\n",
       "    }\n",
       "</style>\n",
       "<table border=\"1\" class=\"dataframe\">\n",
       "  <thead>\n",
       "    <tr style=\"text-align: right;\">\n",
       "      <th></th>\n",
       "      <th>name</th>\n",
       "      <th>person</th>\n",
       "      <th>CID</th>\n",
       "    </tr>\n",
       "  </thead>\n",
       "  <tbody>\n",
       "    <tr>\n",
       "      <th>0</th>\n",
       "      <td>Robert Aderholt</td>\n",
       "      <td>400004</td>\n",
       "      <td>N00003028</td>\n",
       "    </tr>\n",
       "    <tr>\n",
       "      <th>1</th>\n",
       "      <td>Robert Andrews</td>\n",
       "      <td>400008</td>\n",
       "      <td>N00000826</td>\n",
       "    </tr>\n",
       "    <tr>\n",
       "      <th>2</th>\n",
       "      <td>Spencer Bachus</td>\n",
       "      <td>400010</td>\n",
       "      <td>N00008091</td>\n",
       "    </tr>\n",
       "    <tr>\n",
       "      <th>3</th>\n",
       "      <td>Joe Barton</td>\n",
       "      <td>400018</td>\n",
       "      <td>N00005656</td>\n",
       "    </tr>\n",
       "    <tr>\n",
       "      <th>4</th>\n",
       "      <td>Xavier Becerra</td>\n",
       "      <td>400021</td>\n",
       "      <td>N00009774</td>\n",
       "    </tr>\n",
       "  </tbody>\n",
       "</table>\n",
       "</div>"
      ],
      "text/plain": [
       "              name  person        CID\n",
       "0  Robert Aderholt  400004  N00003028\n",
       "1   Robert Andrews  400008  N00000826\n",
       "2   Spencer Bachus  400010  N00008091\n",
       "3       Joe Barton  400018  N00005656\n",
       "4   Xavier Becerra  400021  N00009774"
      ]
     },
     "execution_count": 64,
     "metadata": {},
     "output_type": "execute_result"
    }
   ],
   "source": [
    "house = pd.read_csv(\"../lukeData/final2014House.csv\")\n",
    "senate = pd.read_csv(\"../lukeData/final2014Senate.csv\")\n",
    "elected_14_df = pd.concat([house, senate])\n",
    "elected_14_df.head()"
   ]
  },
  {
   "cell_type": "code",
   "execution_count": 65,
   "metadata": {},
   "outputs": [
    {
     "name": "stdout",
     "output_type": "stream",
     "text": [
      "531\n",
      "406\n"
     ]
    }
   ],
   "source": [
    "print(len(elected_df))\n",
    "elected_14_df = elected_df.drop_duplicates(subset=['CID'])\n",
    "print(len(elected_df))"
   ]
  },
  {
   "cell_type": "code",
   "execution_count": 66,
   "metadata": {},
   "outputs": [],
   "source": [
    "elected_14 = list(elected_df[elected_df['CID'] != -1]['CID'])"
   ]
  },
  {
   "cell_type": "code",
   "execution_count": 67,
   "metadata": {},
   "outputs": [
    {
     "data": {
      "text/html": [
       "<div>\n",
       "<style scoped>\n",
       "    .dataframe tbody tr th:only-of-type {\n",
       "        vertical-align: middle;\n",
       "    }\n",
       "\n",
       "    .dataframe tbody tr th {\n",
       "        vertical-align: top;\n",
       "    }\n",
       "\n",
       "    .dataframe thead th {\n",
       "        text-align: right;\n",
       "    }\n",
       "</style>\n",
       "<table border=\"1\" class=\"dataframe\">\n",
       "  <thead>\n",
       "    <tr style=\"text-align: right;\">\n",
       "      <th></th>\n",
       "      <th>CID</th>\n",
       "      <th>i</th>\n",
       "      <th>p</th>\n",
       "      <th>total</th>\n",
       "      <th>elected</th>\n",
       "      <th>i_n</th>\n",
       "      <th>p_n</th>\n",
       "      <th>incumbent</th>\n",
       "    </tr>\n",
       "  </thead>\n",
       "  <tbody>\n",
       "    <tr>\n",
       "      <th>1</th>\n",
       "      <td></td>\n",
       "      <td>457834.0</td>\n",
       "      <td>0.0</td>\n",
       "      <td>457834.0</td>\n",
       "      <td>False</td>\n",
       "      <td>0.641527</td>\n",
       "      <td>0.0</td>\n",
       "      <td>False</td>\n",
       "    </tr>\n",
       "    <tr>\n",
       "      <th>19</th>\n",
       "      <td>C00000059</td>\n",
       "      <td>3114.0</td>\n",
       "      <td>0.0</td>\n",
       "      <td>3114.0</td>\n",
       "      <td>False</td>\n",
       "      <td>0.004363</td>\n",
       "      <td>0.0</td>\n",
       "      <td>False</td>\n",
       "    </tr>\n",
       "    <tr>\n",
       "      <th>37</th>\n",
       "      <td>C00000422</td>\n",
       "      <td>59031.0</td>\n",
       "      <td>0.0</td>\n",
       "      <td>59031.0</td>\n",
       "      <td>False</td>\n",
       "      <td>0.082716</td>\n",
       "      <td>0.0</td>\n",
       "      <td>False</td>\n",
       "    </tr>\n",
       "    <tr>\n",
       "      <th>56</th>\n",
       "      <td>C00000638</td>\n",
       "      <td>11596.0</td>\n",
       "      <td>0.0</td>\n",
       "      <td>11596.0</td>\n",
       "      <td>False</td>\n",
       "      <td>0.016249</td>\n",
       "      <td>0.0</td>\n",
       "      <td>False</td>\n",
       "    </tr>\n",
       "    <tr>\n",
       "      <th>72</th>\n",
       "      <td>C00000729</td>\n",
       "      <td>30655.0</td>\n",
       "      <td>0.0</td>\n",
       "      <td>30655.0</td>\n",
       "      <td>False</td>\n",
       "      <td>0.042954</td>\n",
       "      <td>0.0</td>\n",
       "      <td>False</td>\n",
       "    </tr>\n",
       "  </tbody>\n",
       "</table>\n",
       "</div>"
      ],
      "text/plain": [
       "          CID         i    p     total  elected       i_n  p_n  incumbent\n",
       "1              457834.0  0.0  457834.0    False  0.641527  0.0      False\n",
       "19  C00000059    3114.0  0.0    3114.0    False  0.004363  0.0      False\n",
       "37  C00000422   59031.0  0.0   59031.0    False  0.082716  0.0      False\n",
       "56  C00000638   11596.0  0.0   11596.0    False  0.016249  0.0      False\n",
       "72  C00000729   30655.0  0.0   30655.0    False  0.042954  0.0      False"
      ]
     },
     "execution_count": 67,
     "metadata": {},
     "output_type": "execute_result"
    }
   ],
   "source": [
    "df['incumbent'] = df['CID'].apply(lambda x: x in elected_14)\n",
    "df.head()"
   ]
  },
  {
   "cell_type": "code",
   "execution_count": 68,
   "metadata": {},
   "outputs": [
    {
     "name": "stdout",
     "output_type": "stream",
     "text": [
      "0.9855072463768116\n"
     ]
    },
    {
     "data": {
      "text/plain": [
       "array([[3.83894635, 2.35474166, 6.32893207]])"
      ]
     },
     "execution_count": 68,
     "metadata": {},
     "output_type": "execute_result"
    }
   ],
   "source": [
    "clf = LogisticRegression()\n",
    "clf.fit(df[['i_n', 'p_n', 'incumbent']], df['elected'])\n",
    "print(clf.score(df[['i_n', 'p_n', 'incumbent']], df['elected']))\n",
    "ceoff = clf.coef_"
   ]
  },
  {
   "cell_type": "code",
   "execution_count": null,
   "metadata": {},
   "outputs": [],
   "source": []
  }
 ],
 "metadata": {
  "kernelspec": {
   "display_name": "Python 3",
   "language": "python",
   "name": "python3"
  },
  "language_info": {
   "codemirror_mode": {
    "name": "ipython",
    "version": 3
   },
   "file_extension": ".py",
   "mimetype": "text/x-python",
   "name": "python",
   "nbconvert_exporter": "python",
   "pygments_lexer": "ipython3",
   "version": "3.6.4"
  }
 },
 "nbformat": 4,
 "nbformat_minor": 2
}
